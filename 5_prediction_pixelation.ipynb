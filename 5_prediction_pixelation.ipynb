{
  "nbformat": 4,
  "nbformat_minor": 0,
  "metadata": {
    "colab": {
      "name": "Predict pixelated.ipynb",
      "provenance": [],
      "collapsed_sections": []
    },
    "kernelspec": {
      "name": "python3",
      "display_name": "Python 3"
    }
  },
  "cells": [
    {
      "cell_type": "code",
      "metadata": {
        "id": "_SER-vDzl5n8",
        "colab_type": "code",
        "outputId": "88b5ce6e-0981-4319-f037-dca64f18401d",
        "colab": {
          "base_uri": "https://localhost:8080/",
          "height": 34
        }
      },
      "source": [
        "from google.colab import drive \n",
        "drive.mount('/content/drive')"
      ],
      "execution_count": 0,
      "outputs": [
        {
          "output_type": "stream",
          "text": [
            "Drive already mounted at /content/drive; to attempt to forcibly remount, call drive.mount(\"/content/drive\", force_remount=True).\n"
          ],
          "name": "stdout"
        }
      ]
    },
    {
      "cell_type": "markdown",
      "metadata": {
        "id": "LMHxkyk0VxtU",
        "colab_type": "text"
      },
      "source": [
        "Predict using saved models "
      ]
    },
    {
      "cell_type": "code",
      "metadata": {
        "id": "1HCYvgvipwSd",
        "colab_type": "code",
        "colab": {}
      },
      "source": [
        "import pickle\n",
        "import numpy as np\n",
        "import matplotlib.pyplot as plt\n",
        "import time\n",
        "from skimage.measure import compare_ssim as ssim\n",
        "from sklearn.model_selection import train_test_split\n",
        "import tensorflow as tf\n",
        "from tensorflow.keras.models import Model, load_model\n",
        "from tensorflow.keras.layers import Input, Conv2D, MaxPooling2D, UpSampling2D, Lambda\n",
        "from tensorflow.keras import backend as K"
      ],
      "execution_count": 0,
      "outputs": []
    },
    {
      "cell_type": "markdown",
      "metadata": {
        "id": "aBlFdToaV2BV",
        "colab_type": "text"
      },
      "source": [
        "Import custom loss functions "
      ]
    },
    {
      "cell_type": "code",
      "metadata": {
        "id": "VakOKjegT3eA",
        "colab_type": "code",
        "colab": {}
      },
      "source": [
        "from tensorflow.keras.applications.vgg16 import VGG16\n",
        "tf.config.experimental_run_functions_eagerly(True)\n",
        "vgg = VGG16(include_top=False, weights='imagenet', input_shape=(128,128,3))\n",
        "\n",
        "def perceptual_loss(y_true, y_pred):\n",
        "    loss_model = Model(inputs=vgg.input, outputs=vgg.get_layer('block3_conv3').output)\n",
        "    loss_model.trainable = False\n",
        "    return K.mean(K.square(loss_model(y_true) - loss_model(y_pred)))"
      ],
      "execution_count": 0,
      "outputs": []
    },
    {
      "cell_type": "code",
      "metadata": {
        "id": "zab--Hr1Dxdb",
        "colab_type": "code",
        "colab": {}
      },
      "source": [
        "from tensorflow.keras.applications.vgg16 import VGG16\n",
        "tf.config.experimental_run_functions_eagerly(True)\n",
        "vgg = VGG16(include_top=False, weights='imagenet', input_shape=(128,128,3))\n",
        "\n",
        "def pixel_perceptual_loss(y_true, y_pred):\n",
        "    loss_model = Model(inputs=vgg.input, outputs=vgg.get_layer('block3_conv3').output)\n",
        "    loss_model.trainable = False\n",
        "    perceptual=K.mean(K.square(loss_model(y_true) - loss_model(y_pred)))\n",
        "    pixel= ((y_true-y_pred)**2)/(128*128*3)\n",
        "    combined_loss= (0.5*pixel) + perceptual\n",
        "    return (combined_loss)"
      ],
      "execution_count": 0,
      "outputs": []
    },
    {
      "cell_type": "markdown",
      "metadata": {
        "id": "v_1Sfb5MV4rl",
        "colab_type": "text"
      },
      "source": [
        "Import demo datasets (on which model has not been trained)"
      ]
    },
    {
      "cell_type": "code",
      "metadata": {
        "id": "q7f4_nRBpzin",
        "colab_type": "code",
        "colab": {}
      },
      "source": [
        "pickle_in = open('/content/drive/My Drive/Demo/Demo10.pickle', 'rb')\n",
        "X = pickle.load(pickle_in)\n",
        "X_test = np.array(X)\n"
      ],
      "execution_count": 0,
      "outputs": []
    },
    {
      "cell_type": "code",
      "metadata": {
        "id": "9R7V2YS6jhlu",
        "colab_type": "code",
        "colab": {}
      },
      "source": [
        "pickle_in1 = open('/content/drive/My Drive/Demo/demo_original.pickle', 'rb')\n",
        "y = pickle.load(pickle_in1)\n",
        "y_test = np.array(y)"
      ],
      "execution_count": 0,
      "outputs": []
    },
    {
      "cell_type": "code",
      "metadata": {
        "id": "OQAVcBQ8p3ep",
        "colab_type": "code",
        "colab": {}
      },
      "source": [
        "print (len(X_test))\n",
        "print (len(y_test))\n"
      ],
      "execution_count": 0,
      "outputs": []
    },
    {
      "cell_type": "markdown",
      "metadata": {
        "id": "ZbEC4DuLWVIr",
        "colab_type": "text"
      },
      "source": [
        "Choose model to train by uncommenting (ensure you use only associated dataset)"
      ]
    },
    {
      "cell_type": "code",
      "metadata": {
        "id": "CYEsuA6g8TSs",
        "colab_type": "code",
        "colab": {}
      },
      "source": [
        "#autoencoder = load_model('/content/drive/My Drive/Trained_models/combined30.h5',custom_objects={'pixel_perceptual_loss':pixel_perceptual_loss})\n",
        "#autoencoder = load_model('/content/drive/My Drive/Trained_models/perceptual30.h5',custom_objects={'perceptual_loss':perceptual_loss})\n",
        "#autoencoder = load_model('/content/drive/My Drive/Trained_models/pixel_loss30.h5')"
      ],
      "execution_count": 0,
      "outputs": []
    },
    {
      "cell_type": "markdown",
      "metadata": {
        "id": "yn3Mat07WUq_",
        "colab_type": "text"
      },
      "source": [
        "See prediction and evluation scores "
      ]
    },
    {
      "cell_type": "code",
      "metadata": {
        "id": "BEDwg44g8QfV",
        "colab_type": "code",
        "colab": {}
      },
      "source": [
        "i = 11\n",
        "\n",
        "original = y_test[i]\n",
        "obfuscated = X_test[i]\n",
        "predicted = autoencoder.predict(np.array([X_test[i]]))\n",
        "\n",
        "plt.axis('off')\n",
        "plt.imshow(obfuscated)\n",
        "plt.show()\n",
        "\n",
        "plt.axis('off')\n",
        "plt.imshow(predicted[0])\n",
        "plt.show()\n",
        "\n",
        "print(\"Original\")\n",
        "plt.axis('off')\n",
        "plt.imshow(original)\n",
        "plt.show()\n"
      ],
      "execution_count": 0,
      "outputs": []
    },
    {
      "cell_type": "code",
      "metadata": {
        "id": "CXDsGErL8UJa",
        "colab_type": "code",
        "colab": {}
      },
      "source": [
        "from skimage import data, img_as_float\n",
        "from skimage.metrics import structural_similarity as ssim\n",
        "predicted = autoencoder.predict(np.array([X_test[i]]))\n",
        "img=y_test[i]\n",
        "img_x=X_test[i]\n",
        "img_noise=predicted[0]\n",
        "reconstructed_ssim = ssim(img, img_noise,\n",
        "                  data_range=img_noise.max() - img_noise.min(),multichannel=True)#RECONSTRUCTED AND TRUE\n",
        "obfuscated_ssim = ssim(img, img_x,\n",
        "                  data_range=img_x.max() - img_x.min(),multichannel=True)#OBFUSCATED AND TRUE\n",
        "print (i)\n",
        "print (reconstructed_ssim)\n",
        "print (obfuscated_ssim)"
      ],
      "execution_count": 0,
      "outputs": []
    },
    {
      "cell_type": "code",
      "metadata": {
        "id": "zL-bDC4lUgqZ",
        "colab_type": "code",
        "colab": {}
      },
      "source": [
        "import numpy \n",
        "import math\n",
        "import cv2\n",
        "original = y_test[i]\n",
        "predicted = autoencoder.predict(np.array([X_test[i]]))\n",
        "contrast = predicted[0]#reconstructed\n",
        "obfuscated= X_test[i]\n",
        "#contrast = y_test[2]\n",
        "#contrast = X_test[2]\n",
        "def psnr(img1, img2):\n",
        "    mse = numpy.mean( (img1 - img2) ** 2 )\n",
        "    if mse == 0:\n",
        "      return 100\n",
        "    PIXEL_MAX = 255.0\n",
        "    return 20 * math.log10(PIXEL_MAX / math.sqrt(mse))\n",
        "\n",
        "reconstructed_psnr= psnr(original,contrast)\n",
        "obfuscated_psnr= psnr(original,obfuscated)\n",
        "\n",
        "print (reconstructed_psnr)\n",
        "print (obfuscated_psnr)"
      ],
      "execution_count": 0,
      "outputs": []
    },
    {
      "cell_type": "markdown",
      "metadata": {
        "id": "BVo7PeUhVweA",
        "colab_type": "text"
      },
      "source": [
        ""
      ]
    },
    {
      "cell_type": "code",
      "metadata": {
        "id": "-5QNhwWHKQ3F",
        "colab_type": "code",
        "colab": {}
      },
      "source": [
        ""
      ],
      "execution_count": 0,
      "outputs": []
    }
  ]
}